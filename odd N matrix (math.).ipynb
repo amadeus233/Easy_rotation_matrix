{
 "cells": [
  {
   "cell_type": "code",
   "execution_count": null,
   "metadata": {},
   "outputs": [],
   "source": [
    "import numpy as np\n",
    "import seaborn as sns\n",
    "import matplotlib.pyplot as plt\n",
    "\n",
    "# 创建一个5x5的整数矩阵（范围在1到100之间）\n",
    "matrix_data = np.random.randint(1, 101, size=(5, 5))\n",
    "\n",
    "# 使用seaborn的heatmap生成热力图\n",
    "plt.figure(figsize=(8, 6))\n",
    "sns.set(font_scale=1.2)  # 调整字体大小\n",
    "sns.heatmap(matrix_data, annot=True, fmt=\"d\", cmap=\"viridis\", linewidths=.5, cbar_kws={\"label\": \"Values\"})\n",
    "plt.title('Beautiful and fancy 5x5 Integer Matrix Heatmap')\n",
    "plt.show()\n"
   ]
  }
 ],
 "metadata": {
  "kernelspec": {
   "display_name": "Python 3",
   "language": "python",
   "name": "python3"
  },
  "language_info": {
   "codemirror_mode": {
    "name": "ipython",
    "version": 3
   },
   "file_extension": ".py",
   "mimetype": "text/x-python",
   "name": "python",
   "nbconvert_exporter": "python",
   "pygments_lexer": "ipython3",
   "version": "3.9.12"
  }
 },
 "nbformat": 4,
 "nbformat_minor": 2
}
